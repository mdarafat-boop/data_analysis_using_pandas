{
  "cells": [
    {
      "cell_type": "markdown",
      "metadata": {
        "id": "view-in-github",
        "colab_type": "text"
      },
      "source": [
        "<a href=\"https://colab.research.google.com/github/mdarafat-boop/data_analysis_using_pandas/blob/main/Copy_of_cust_pranch_data_exracice.ipynb\" target=\"_parent\"><img src=\"https://colab.research.google.com/assets/colab-badge.svg\" alt=\"Open In Colab\"/></a>"
      ]
    },
    {
      "cell_type": "markdown",
      "source": [
        "Hey there,\n",
        "I'll gonna show :\n",
        "How to do data analysis using PANDAS in PYTHON"
      ],
      "metadata": {
        "id": "_OzisS9NE0PI"
      }
    },
    {
      "cell_type": "code",
      "execution_count": null,
      "metadata": {
        "id": "SbSQ7BV5H0Qw",
        "colab": {
          "base_uri": "https://localhost:8080/"
        },
        "outputId": "43b034e4-1f14-472b-e4b6-0cdf1f542da8"
      },
      "outputs": [
        {
          "output_type": "stream",
          "name": "stdout",
          "text": [
            "Mounted at /content/drive\n"
          ]
        }
      ],
      "source": [
        "import pandas as pd\n",
        "import numpy as np\n",
        "import csv\n",
        "from google.colab import drive\n",
        "drive.mount('/content/drive')\n",
        "file_path = '/content/drive/MyDrive/cust_purch_data_exracice/Cust_Purch_FakeData.csv'\n",
        "\n",
        "cust = pd.read_csv(file_path)\n"
      ]
    },
    {
      "cell_type": "markdown",
      "source": [
        "Questin 1: How many entries your data have? Can you tell the no. of columns in your data?"
      ],
      "metadata": {
        "id": "0QbDUvZeXO1C"
      }
    },
    {
      "cell_type": "code",
      "source": [
        "cust.info() # hit play button to run it"
      ],
      "metadata": {
        "id": "LcQdDyeBXNt7",
        "colab": {
          "base_uri": "https://localhost:8080/"
        },
        "outputId": "126bcfc6-8bb4-45cd-8c3c-df5d54c4c602"
      },
      "execution_count": null,
      "outputs": [
        {
          "output_type": "stream",
          "name": "stdout",
          "text": [
            "<class 'pandas.core.frame.DataFrame'>\n",
            "RangeIndex: 30000 entries, 0 to 29999\n",
            "Data columns (total 20 columns):\n",
            " #   Column      Non-Null Count  Dtype  \n",
            "---  ------      --------------  -----  \n",
            " 0   prefix      30000 non-null  object \n",
            " 1   first       30000 non-null  object \n",
            " 2   last        30000 non-null  object \n",
            " 3   email       30000 non-null  object \n",
            " 4   gender      30000 non-null  object \n",
            " 5   age         30000 non-null  int64  \n",
            " 6   company     30000 non-null  object \n",
            " 7   profession  30000 non-null  object \n",
            " 8   phone       30000 non-null  object \n",
            " 9   postal      30000 non-null  object \n",
            " 10  province    30000 non-null  object \n",
            " 11  cc_no       30000 non-null  int64  \n",
            " 12  cc_exp      30000 non-null  object \n",
            " 13  cc_type     30000 non-null  object \n",
            " 14  price(CAD)  30000 non-null  float64\n",
            " 15  fav_color   30000 non-null  object \n",
            " 16  ip          30000 non-null  object \n",
            " 17  weekday     30000 non-null  object \n",
            " 18  ampm        30000 non-null  object \n",
            " 19  date        30000 non-null  object \n",
            "dtypes: float64(1), int64(2), object(17)\n",
            "memory usage: 4.6+ MB\n"
          ]
        }
      ]
    },
    {
      "cell_type": "markdown",
      "source": [
        "Question no 2: What are the max and min ages of your customer? Can you find mean of your customer?"
      ],
      "metadata": {
        "id": "5bAl3KDBZFLE"
      }
    },
    {
      "cell_type": "code",
      "source": [
        "print('The maximun ages of the customers: ',cust['age'].max())\n",
        "print('The minimum ages of the customers: ',cust['age'].min())\n",
        "print('The avarege ages of the customers: ',cust['age'].mean().round(2))"
      ],
      "metadata": {
        "id": "APw6O61yZL8z"
      },
      "execution_count": null,
      "outputs": []
    },
    {
      "cell_type": "markdown",
      "source": [
        "Question no 3: What are the three most common customer's names?"
      ],
      "metadata": {
        "id": "gBu4sVNJaVZz"
      }
    },
    {
      "cell_type": "code",
      "source": [
        "cust['first'].value_counts().head(3)"
      ],
      "metadata": {
        "id": "wEqXGvKlahhb"
      },
      "execution_count": null,
      "outputs": []
    },
    {
      "cell_type": "markdown",
      "source": [
        "Question no 4:  Two customers have the same phone number, can you find those customers?"
      ],
      "metadata": {
        "id": "a_LNoEnzbt3T"
      }
    },
    {
      "cell_type": "code",
      "source": [
        "cust.groupby('phone')['first'].count().sort_values(ascending=False).head(1)"
      ],
      "metadata": {
        "id": "jdIXdMsEb1VM"
      },
      "execution_count": null,
      "outputs": []
    },
    {
      "cell_type": "markdown",
      "source": [
        "Question no. 5: How many customers have profession \"Structural Engineer\"?"
      ],
      "metadata": {
        "id": "IKsejDwNEYDu"
      }
    },
    {
      "cell_type": "code",
      "source": [
        "cust[cust['profession'] == 'Structural Engineer'].count()['profession']"
      ],
      "metadata": {
        "id": "GFv21g94EnGW"
      },
      "execution_count": null,
      "outputs": []
    },
    {
      "cell_type": "markdown",
      "source": [
        "Question no. 6 : How many male customers are 'Structural Engineer'?"
      ],
      "metadata": {
        "id": "4CJNqGnQG1NW"
      }
    },
    {
      "cell_type": "code",
      "source": [
        "cust[(cust['profession'] == 'Structural Engineer') & (cust['gender'] == 'Male')].count()['first']"
      ],
      "metadata": {
        "colab": {
          "base_uri": "https://localhost:8080/"
        },
        "id": "-Y9KLpfmIyGG",
        "outputId": "1fc8acab-af5d-479c-9070-a59e71b4c11d"
      },
      "execution_count": null,
      "outputs": [
        {
          "output_type": "execute_result",
          "data": {
            "text/plain": [
              "np.int64(43)"
            ]
          },
          "metadata": {},
          "execution_count": 19
        }
      ]
    }
  ],
  "metadata": {
    "colab": {
      "provenance": [],
      "include_colab_link": true
    },
    "kernelspec": {
      "display_name": "Python 3",
      "name": "python3"
    },
    "language_info": {
      "name": "python"
    }
  },
  "nbformat": 4,
  "nbformat_minor": 0
}